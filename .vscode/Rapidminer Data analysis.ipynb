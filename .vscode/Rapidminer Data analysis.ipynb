{
 "cells": [
  {
   "cell_type": "code",
   "execution_count": 2,
   "metadata": {},
   "outputs": [],
   "source": [
    "import os\n",
    "import pandas as pd\n",
    "import rapidminer\n",
    "rm = rapidminer.Studio(\"C:\\Program Files\\RapidMiner\\RapidMiner Studio\")"
   ]
  },
  {
   "cell_type": "code",
   "execution_count": 5,
   "metadata": {},
   "outputs": [
    {
     "name": "stderr",
     "output_type": "stream",
     "text": [
      "c:\\Users\\ajain46\\Anaconda3\\envs\\NERA\\lib\\site-packages\\rapidminer\\core\\project.py:121: H5pyDeprecationWarning: Using astype() as a context manager is deprecated. Slice the returned object instead, like: ds.astype(np.int32)[:10]\n",
      "  with x.astype('int64'):\n"
     ]
    }
   ],
   "source": [
    "ejr = rapidminer.Project().read(r'C:\\Users\\ajain46\\OneDrive\\JAGUAR LAND ROVER\\Network Excellence Reporting & Analytics - NERA Data Repository\\Processed Data\\NERA RapidMiner Repository\\Evo_2_Users\\Data\\5_EmpJobRole.rmhdf5table')"
   ]
  },
  {
   "cell_type": "code",
   "execution_count": 6,
   "metadata": {},
   "outputs": [
    {
     "name": "stderr",
     "output_type": "stream",
     "text": [
      "c:\\Users\\ajain46\\Anaconda3\\envs\\NERA\\lib\\site-packages\\rapidminer\\core\\project.py:121: H5pyDeprecationWarning: Using astype() as a context manager is deprecated. Slice the returned object instead, like: ds.astype(np.int32)[:10]\n",
      "  with x.astype('int64'):\n"
     ]
    }
   ],
   "source": [
    "certhpath = rapidminer.Project().read(r'C:\\Users\\ajain46\\OneDrive\\JAGUAR LAND ROVER\\Network Excellence Reporting & Analytics - NERA Data Repository\\Processed Data\\NERA RapidMiner Repository\\Evo_2_Users\\Data\\6_CertPath.rmhdf5table')"
   ]
  },
  {
   "cell_type": "code",
   "execution_count": 8,
   "metadata": {},
   "outputs": [
    {
     "name": "stdout",
     "output_type": "stream",
     "text": [
      "<class 'pandas.core.frame.DataFrame'>\n",
      "RangeIndex: 647909 entries, 0 to 647908\n",
      "Data columns (total 15 columns):\n",
      " #   Column                 Non-Null Count   Dtype         \n",
      "---  ------                 --------------   -----         \n",
      " 0   ReferenceCode          647909 non-null  category      \n",
      " 1   EmpStatus              647909 non-null  category      \n",
      " 2   IsPrimary              647909 non-null  int64         \n",
      " 3   StartDate              647909 non-null  datetime64[ns]\n",
      " 4   EndDate                518969 non-null  datetime64[ns]\n",
      " 5   BrandCode              646642 non-null  category      \n",
      " 6   IsMerged               647909 non-null  int64         \n",
      " 7   CertificationPath      503300 non-null  category      \n",
      " 8   CertificationPathUUID  503300 non-null  category      \n",
      " 9   BusinessUnitUUID       647909 non-null  category      \n",
      " 10  UserUUID               647909 non-null  category      \n",
      " 11  ManagerUUID            323516 non-null  category      \n",
      " 12  DepartmentUUID         647909 non-null  category      \n",
      " 13  EmploymentJobRoleUUID  647909 non-null  category      \n",
      " 14  EJRstatus              647909 non-null  category      \n",
      "dtypes: category(11), datetime64[ns](2), int64(2)\n",
      "memory usage: 58.6 MB\n"
     ]
    }
   ],
   "source": [
    "ejr.info()"
   ]
  },
  {
   "cell_type": "code",
   "execution_count": 9,
   "metadata": {},
   "outputs": [
    {
     "name": "stdout",
     "output_type": "stream",
     "text": [
      "<class 'pandas.core.frame.DataFrame'>\n",
      "RangeIndex: 502864 entries, 0 to 502863\n",
      "Data columns (total 12 columns):\n",
      " #   Column                 Non-Null Count   Dtype         \n",
      "---  ------                 --------------   -----         \n",
      " 0   CertPath               502864 non-null  category      \n",
      " 1   CurrentLevelName       399283 non-null  category      \n",
      " 2   TargetLevelName        500354 non-null  category      \n",
      " 3   ExpirationDate         39851 non-null   datetime64[ns]\n",
      " 4   IsTechnical            502864 non-null  int64         \n",
      " 5   IsFastTrack            502864 non-null  int64         \n",
      " 6   LearnerJourneyUUID     502864 non-null  category      \n",
      " 7   EmploymentJobRoleUUID  502864 non-null  category      \n",
      " 8   UserUUID               502864 non-null  category      \n",
      " 9   CompletionDate         294389 non-null  datetime64[ns]\n",
      " 10  PIN                    502864 non-null  category      \n",
      " 11  CurrentStudyLevel      500698 non-null  category      \n",
      "dtypes: category(8), datetime64[ns](2), int64(2)\n",
      "memory usage: 29.3 MB\n"
     ]
    }
   ],
   "source": [
    "certhpath.info()"
   ]
  },
  {
   "cell_type": "code",
   "execution_count": 10,
   "metadata": {},
   "outputs": [],
   "source": [
    "\n",
    "ejr_pathways=ejr['CertificationPath'].drop_duplicates().reset_index(drop=True)"
   ]
  },
  {
   "cell_type": "code",
   "execution_count": 11,
   "metadata": {},
   "outputs": [
    {
     "data": {
      "text/plain": [
       "0                                       NaN\n",
       "1            Service and Aftersales Manager\n",
       "2                   Bodyshop MET Technician\n",
       "3                 Bodyshop Panel Technician\n",
       "4              Bodyshop Refinish Technician\n",
       "5                             CRC Executive\n",
       "6                            CRC Management\n",
       "7                 Client Experience Manager\n",
       "8                             EV Specialist\n",
       "9     Client Service Development Consultant\n",
       "10            Client Service Market Manager\n",
       "11        Client Service Process Specialist\n",
       "12            Finance and Insurance Manager\n",
       "13                 Fleet and Business Sales\n",
       "14                                  Hosting\n",
       "15              Global Technical Apprentice\n",
       "16                      Handover Specialist\n",
       "17                          General Manager\n",
       "18                         Local Apprentice\n",
       "19                  Local Technical Support\n",
       "20                            LTS Induction\n",
       "21                   Core Client Experience\n",
       "22                            Parts Advisor\n",
       "23                            Parts Manager\n",
       "24                          Port Technician\n",
       "25                          Sales Executive\n",
       "26                  Pre-Owned Sales Manager\n",
       "27                          Quality Manager\n",
       "28          Regional Client Service Manager\n",
       "29             Regional Performance Manager\n",
       "30               Roadside Assistance Patrol\n",
       "31          Roadside Assistance Team Leader\n",
       "32                            Sales Manager\n",
       "33                     Senior Parts Advisor\n",
       "34                   Senior Sales Executive\n",
       "35                   Senior Service Advisor\n",
       "36                          Service Advisor\n",
       "37                  Service Quality Manager\n",
       "38                            SV Specialist\n",
       "39                        Technical Trainer\n",
       "40             Technical Trainer (Retailer)\n",
       "41                               Technician\n",
       "42                                 Warranty\n",
       "43                      Workshop Controller\n",
       "Name: CertificationPath, dtype: category\n",
       "Categories (43, object): ['Service and Aftersales Manager', 'Bodyshop MET Technician', 'Bodyshop Panel Technician', 'Bodyshop Refinish Technician', ..., 'Technical Trainer (Retailer)', 'Technician', 'Warranty', 'Workshop Controller']"
      ]
     },
     "execution_count": 11,
     "metadata": {},
     "output_type": "execute_result"
    }
   ],
   "source": [
    "ejr_pathways"
   ]
  },
  {
   "cell_type": "code",
   "execution_count": 12,
   "metadata": {},
   "outputs": [],
   "source": [
    "certhpath_pathways=certhpath['CertPath'].drop_duplicates().reset_index(drop=True)"
   ]
  },
  {
   "cell_type": "code",
   "execution_count": 13,
   "metadata": {},
   "outputs": [
    {
     "data": {
      "text/plain": [
       "0                             Technician\n",
       "1                        Sales Executive\n",
       "2                        General Manager\n",
       "3                          SV Specialist\n",
       "4         Service and Aftersales Manager\n",
       "5                               Warranty\n",
       "6                 Core Client Experience\n",
       "7                Service Delivery Driver\n",
       "8                          Parts Advisor\n",
       "9                        Service Advisor\n",
       "10                         CRC Executive\n",
       "11                         Parts Manager\n",
       "12                         Sales Manager\n",
       "13         Finance and Insurance Manager\n",
       "14                               Hosting\n",
       "15                   Workshop Controller\n",
       "16                   Handover Specialist\n",
       "17             Pre-Owned Sales Executive\n",
       "18                   Sales Administrator\n",
       "19                  General Receptionist\n",
       "20                     Technical Trainer\n",
       "21               Bodyshop MET Technician\n",
       "22                        CRC Management\n",
       "23                 Service Administrator\n",
       "24             Bodyshop Panel Technician\n",
       "25                   After Sales Manager\n",
       "26          Bodyshop Refinish Technician\n",
       "27           Global Technical Apprentice\n",
       "28                 Sales Delivery Driver\n",
       "29                             Secretary\n",
       "30                         Retailer Host\n",
       "31              Fleet and Business Sales\n",
       "32             Client Experience Manager\n",
       "33               Pre-Owned Sales Manager\n",
       "34               Local Technical Support\n",
       "35                      Warranty Manager\n",
       "36                 Parts Delivery Driver\n",
       "37    Fleet and Business Sales Executive\n",
       "38                     Marketing Support\n",
       "39                     Marketing Manager\n",
       "Name: CertPath, dtype: category\n",
       "Categories (40, object): ['Technician', 'Sales Executive', 'General Manager', 'SV Specialist', ..., 'Parts Delivery Driver', 'Fleet and Business Sales Executive', 'Marketing Support', 'Marketing Manager']"
      ]
     },
     "execution_count": 13,
     "metadata": {},
     "output_type": "execute_result"
    }
   ],
   "source": [
    "certhpath_pathways"
   ]
  },
  {
   "cell_type": "code",
   "execution_count": null,
   "metadata": {},
   "outputs": [],
   "source": [
    "merged_df = pd.merge(left=ejr_pathways,right=certhpath_pathways, how='outer', left_on='CertificationPath', right_on='CertPath')\n",
    "print(merged_df)"
   ]
  },
  {
   "cell_type": "code",
   "execution_count": null,
   "metadata": {},
   "outputs": [],
   "source": [
    "certhpath[certhpath['PIN'] == '712860']"
   ]
  },
  {
   "cell_type": "code",
   "execution_count": null,
   "metadata": {},
   "outputs": [],
   "source": [
    "ejr[ejr['EmploymentJobRoleUUID'] == 'a66482f9-f28a-11eb-bb3a-062831290187']"
   ]
  },
  {
   "cell_type": "code",
   "execution_count": null,
   "metadata": {},
   "outputs": [],
   "source": [
    "Excellenceusers=rapidminer.Project().read(r'C:\\Users\\ajain46\\OneDrive\\JAGUAR LAND ROVER\\Network Excellence Reporting & Analytics - NERA Data Repository\\Processed Data\\NERA RapidMiner Repository\\Evo_2_Users\\Data\\16_ExcellenceUsersActiveAsNewOrgWithFimsFields.rmhdf5table')"
   ]
  },
  {
   "cell_type": "code",
   "execution_count": null,
   "metadata": {},
   "outputs": [],
   "source": [
    "Excllence = Excellenceusers[Excellenceusers ['PIN'] == '712860']\n"
   ]
  },
  {
   "cell_type": "code",
   "execution_count": null,
   "metadata": {},
   "outputs": [],
   "source": [
    "Excllence.to_excel('output.xlsx', index=False)"
   ]
  },
  {
   "cell_type": "code",
   "execution_count": null,
   "metadata": {},
   "outputs": [],
   "source": [
    "BS_LJ = pd.read_excel(r'C:\\Users\\ajain46\\OneDrive\\OneDrive - JAGUAR LAND ROVER\\Documents\\Bodyshop LJ build.xlsx')"
   ]
  },
  {
   "cell_type": "code",
   "execution_count": null,
   "metadata": {},
   "outputs": [],
   "source": [
    "BS_LJ"
   ]
  },
  {
   "cell_type": "code",
   "execution_count": null,
   "metadata": {},
   "outputs": [],
   "source": [
    "BS_LJ.columns"
   ]
  },
  {
   "cell_type": "code",
   "execution_count": null,
   "metadata": {},
   "outputs": [],
   "source": [
    " BS_LJ[['Job Role','CI Code','Brand','PIN']]"
   ]
  },
  {
   "cell_type": "code",
   "execution_count": null,
   "metadata": {},
   "outputs": [],
   "source": [
    " BS_LJ_PIN = BS_LJ.query('PIN==712860')"
   ]
  },
  {
   "cell_type": "code",
   "execution_count": null,
   "metadata": {},
   "outputs": [],
   "source": [
    "BS_LJ_PIN[['PIN','Cert','Job Role','CI Code','Brand','Retailer Name','Certified Level','Target Level','Course Code']]"
   ]
  },
  {
   "cell_type": "code",
   "execution_count": null,
   "metadata": {},
   "outputs": [],
   "source": []
  }
 ],
 "metadata": {
  "kernelspec": {
   "display_name": "NERA",
   "language": "python",
   "name": "python3"
  },
  "language_info": {
   "codemirror_mode": {
    "name": "ipython",
    "version": 3
   },
   "file_extension": ".py",
   "mimetype": "text/x-python",
   "name": "python",
   "nbconvert_exporter": "python",
   "pygments_lexer": "ipython3",
   "version": "3.7.9"
  },
  "orig_nbformat": 4
 },
 "nbformat": 4,
 "nbformat_minor": 2
}
