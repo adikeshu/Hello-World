{
 "cells": [
  {
   "cell_type": "code",
   "execution_count": 1,
   "metadata": {},
   "outputs": [],
   "source": [
    "import os\n",
    "import numpy as np\n",
    "import pandas as pd\n",
    "import rapidminer\n",
    "\n",
    "rm = rapidminer.Studio(\"C:\\Program Files\\RapidMiner\\RapidMiner Studio\")"
   ]
  },
  {
   "cell_type": "markdown",
   "metadata": {},
   "source": [
    "### EXPLORING"
   ]
  },
  {
   "cell_type": "code",
   "execution_count": null,
   "metadata": {},
   "outputs": [],
   "source": []
  },
  {
   "cell_type": "code",
   "execution_count": null,
   "metadata": {},
   "outputs": [],
   "source": []
  },
  {
   "cell_type": "code",
   "execution_count": 2,
   "metadata": {},
   "outputs": [],
   "source": [
    "df = rapidminer.Project().read(r'C:\\Users\\ajain46\\OneDrive\\JAGUAR LAND ROVER\\Network Excellence Reporting & Analytics - NERA Data Repository\\Processed Data\\NERA RapidMiner Repository\\Evo_4_CE & Tech\\Data\\All Course Enrolments.rmhdf5table')"
   ]
  },
  {
   "cell_type": "code",
   "execution_count": 3,
   "metadata": {},
   "outputs": [
    {
     "data": {
      "text/plain": [
       "Brand                                         False\n",
       "Business Region                               False\n",
       "Market                                        False\n",
       "Sub Market                                    False\n",
       "Country                                       False\n",
       "CustomerServiceMapping                         True\n",
       "AddressIDExcellence                            True\n",
       "CI Code                                       False\n",
       "Retailer Name                                  True\n",
       "BusUnitType                                   False\n",
       "BusUnitSubType                                False\n",
       "Town                                           True\n",
       "Retailer Status                               False\n",
       "PIN                                           False\n",
       "First Name                                    False\n",
       "Surname                                       False\n",
       "Email                                          True\n",
       "Job Role                                      False\n",
       "Excellence Level                              False\n",
       "Target Level                                  False\n",
       "Certification Achieved Date                    True\n",
       "Certification Expiry Date                      True\n",
       "IsFastTrack                                    True\n",
       "EmpStatus                                     False\n",
       "Job Role Start Date                           False\n",
       "Job Role End Date                              True\n",
       "JobRoleActiveInactive                         False\n",
       "UserStatus                                    False\n",
       "UserSubStatus                                 False\n",
       "Last Login Date                                True\n",
       "Franchise Country                              True\n",
       "Distributor CI Code of Main Retailer           True\n",
       "Franchise CI Code of Main Retailer             True\n",
       "FranchiseCategory                              True\n",
       "Address ID                                     True\n",
       "Address Latitude                               True\n",
       "Address Longitude                              True\n",
       "APO Retailer                                   True\n",
       "Battery Electric Vehicle Sales                 True\n",
       "Distributor CI Code                            True\n",
       "Franchise CI Code                              True\n",
       "Franchise Status                               True\n",
       "Franchise Trading Title                        True\n",
       "Franchise Type                                 True\n",
       "IsMerged                                      False\n",
       "IsPrimary                                     False\n",
       "JLR Number                                     True\n",
       "Plug-In Hybrid Electric Vehicle Sales          True\n",
       "Retailer Group                                 True\n",
       "Service Traction Battery Repair Enabled        True\n",
       "Service Traction Battery Repair Restricted     True\n",
       "SVO                                            True\n",
       "dtype: bool"
      ]
     },
     "execution_count": 3,
     "metadata": {},
     "output_type": "execute_result"
    }
   ],
   "source": [
    "df.isna().any()"
   ]
  },
  {
   "cell_type": "code",
   "execution_count": 3,
   "metadata": {},
   "outputs": [
    {
     "name": "stdout",
     "output_type": "stream",
     "text": [
      "<class 'pandas.core.frame.DataFrame'>\n",
      "RangeIndex: 2689280 entries, 0 to 2689279\n",
      "Data columns (total 9 columns):\n",
      " #   Column            Dtype         \n",
      "---  ------            -----         \n",
      " 0   Course Code       category      \n",
      " 1   PIN               category      \n",
      " 2   Asset Type        category      \n",
      " 3   CourseTitle       category      \n",
      " 4   Enrolment Status  category      \n",
      " 5   Duration          float64       \n",
      " 6   Start Date        datetime64[ns]\n",
      " 7   Completed Date    datetime64[ns]\n",
      " 8   Course Date       datetime64[ns]\n",
      "dtypes: category(5), datetime64[ns](3), float64(1)\n",
      "memory usage: 112.9 MB\n"
     ]
    }
   ],
   "source": [
    "df.info()"
   ]
  },
  {
   "cell_type": "code",
   "execution_count": null,
   "metadata": {},
   "outputs": [],
   "source": [
    "df.shape"
   ]
  },
  {
   "cell_type": "code",
   "execution_count": null,
   "metadata": {},
   "outputs": [],
   "source": [
    "df.describe()"
   ]
  },
  {
   "cell_type": "code",
   "execution_count": null,
   "metadata": {},
   "outputs": [],
   "source": [
    "\n",
    "df.values"
   ]
  },
  {
   "cell_type": "code",
   "execution_count": null,
   "metadata": {},
   "outputs": [],
   "source": [
    "df.columns"
   ]
  },
  {
   "cell_type": "code",
   "execution_count": null,
   "metadata": {},
   "outputs": [],
   "source": [
    "df.index"
   ]
  },
  {
   "cell_type": "markdown",
   "metadata": {},
   "source": [
    "### SORTING (NULTIPLE)"
   ]
  },
  {
   "cell_type": "code",
   "execution_count": null,
   "metadata": {},
   "outputs": [],
   "source": [
    "df.sort_values([\"Country\",\"Brand\"],ascending=[True,False])"
   ]
  },
  {
   "cell_type": "markdown",
   "metadata": {},
   "source": [
    "### SUBSETTING "
   ]
  },
  {
   "cell_type": "code",
   "execution_count": null,
   "metadata": {},
   "outputs": [],
   "source": [
    "df1= df[[\"PIN\",\"Excellence Level\", \"Country\", \"BusUnitType\", \"CI Code\" , \"Retailer Name\",\"AddressIDExcellence\",\"Country\",\"Brand\"]]"
   ]
  },
  {
   "cell_type": "code",
   "execution_count": null,
   "metadata": {},
   "outputs": [],
   "source": [
    "def new_func():\n",
    "    df1= df[[\"PIN\",\"Excellence Level\", \"Country\", \"BusUnitType\", \"CI Code\" , \"Retailer Name\",\"AddressIDExcellence\",\"Country\",\"Brand\"]]\n",
    "    return df1\n",
    "\n",
    "df1 = new_func()\n",
    "df1"
   ]
  },
  {
   "cell_type": "code",
   "execution_count": null,
   "metadata": {},
   "outputs": [],
   "source": [
    "df[[\"Country\",\"Brand\"]]"
   ]
  },
  {
   "cell_type": "code",
   "execution_count": null,
   "metadata": {},
   "outputs": [],
   "source": [
    "df[df[\"Country\"]==\"UK\"]"
   ]
  },
  {
   "cell_type": "code",
   "execution_count": null,
   "metadata": {},
   "outputs": [],
   "source": [
    "df[df[\"Country\"] , df[\"Brand\"].isin(['Jaguar','Land Rover'])]"
   ]
  },
  {
   "cell_type": "code",
   "execution_count": null,
   "metadata": {},
   "outputs": [],
   "source": [
    "df = df[df[\"Country\"].isin([\"Uk\",\"Europe\"])] "
   ]
  },
  {
   "cell_type": "code",
   "execution_count": null,
   "metadata": {},
   "outputs": [],
   "source": [
    "df[(df[\"PIN\"].isin([\"934567\", \"720751\", \"519667\"])) & (df[\"AddressIDExcellence\"] == 'AD_464057')].sort_values(by=\"PIN\")"
   ]
  },
  {
   "cell_type": "code",
   "execution_count": null,
   "metadata": {},
   "outputs": [],
   "source": [
    "df[[\"Brand\",\"Excellence Level\",\"PIN\",\"JobRoleActiveInactive\"]].query('PIN==\"962437\" and JobRoleActiveInactive == \"Active\"')"
   ]
  },
  {
   "cell_type": "markdown",
   "metadata": {},
   "source": [
    "### ADDING NEW COLUMN"
   ]
  },
  {
   "cell_type": "code",
   "execution_count": null,
   "metadata": {},
   "outputs": [],
   "source": [
    "df[\"country_Brand\"] = df[\"Country\"] + df[\"Brand\"]"
   ]
  },
  {
   "cell_type": "code",
   "execution_count": null,
   "metadata": {},
   "outputs": [],
   "source": [
    "df[\"country_Brand\"]"
   ]
  },
  {
   "cell_type": "markdown",
   "metadata": {},
   "source": [
    "### GROUPBY"
   ]
  },
  {
   "cell_type": "code",
   "execution_count": null,
   "metadata": {},
   "outputs": [],
   "source": [
    "df1.groupby(\"Brand\")[\"PIN\"].agg([max])"
   ]
  },
  {
   "cell_type": "code",
   "execution_count": null,
   "metadata": {},
   "outputs": [],
   "source": [
    "df1.groupby(\"Country\")[\"PIN\"].max()"
   ]
  },
  {
   "cell_type": "code",
   "execution_count": null,
   "metadata": {},
   "outputs": [],
   "source": [
    "df1.groupby([\"Country\",\"Market\"])[\"PIN\",\"Address ID\"].agg(max)"
   ]
  },
  {
   "cell_type": "markdown",
   "metadata": {},
   "source": [
    "### PIVOT TABLE"
   ]
  },
  {
   "cell_type": "code",
   "execution_count": null,
   "metadata": {},
   "outputs": [],
   "source": [
    "df1.pivot_table(index=\"Brand\", columns=\"Excellence Level\")"
   ]
  },
  {
   "cell_type": "code",
   "execution_count": null,
   "metadata": {},
   "outputs": [],
   "source": [
    "df.set_index([\"Country\",\"Market\"])"
   ]
  },
  {
   "cell_type": "markdown",
   "metadata": {},
   "source": [
    "### SLICING , LOC , ILOC"
   ]
  },
  {
   "cell_type": "code",
   "execution_count": null,
   "metadata": {},
   "outputs": [],
   "source": [
    "df1.Country[:10]"
   ]
  },
  {
   "cell_type": "code",
   "execution_count": null,
   "metadata": {},
   "outputs": [],
   "source": [
    "df1"
   ]
  },
  {
   "cell_type": "code",
   "execution_count": null,
   "metadata": {},
   "outputs": [],
   "source": [
    "df1_srt= df1.set_index(\"PIN\").sort_index()\n",
    "df1_srt"
   ]
  },
  {
   "cell_type": "code",
   "execution_count": null,
   "metadata": {},
   "outputs": [],
   "source": [
    "df1_srt.loc[\"004938\": \"003651\", :\"AddressIDExcellence\" ] # Rows and columns"
   ]
  },
  {
   "cell_type": "code",
   "execution_count": null,
   "metadata": {},
   "outputs": [],
   "source": [
    "df1_srt.iloc[1:5,1:3]"
   ]
  },
  {
   "cell_type": "code",
   "execution_count": null,
   "metadata": {},
   "outputs": [],
   "source": [
    "df1_srt.loc[\"004938\":\"003651\"]"
   ]
  },
  {
   "cell_type": "markdown",
   "metadata": {},
   "source": [
    "### DICTIONARY"
   ]
  },
  {
   "cell_type": "code",
   "execution_count": 82,
   "metadata": {},
   "outputs": [
    {
     "data": {
      "text/html": [
       "<div>\n",
       "<style scoped>\n",
       "    .dataframe tbody tr th:only-of-type {\n",
       "        vertical-align: middle;\n",
       "    }\n",
       "\n",
       "    .dataframe tbody tr th {\n",
       "        vertical-align: top;\n",
       "    }\n",
       "\n",
       "    .dataframe thead th {\n",
       "        text-align: right;\n",
       "    }\n",
       "</style>\n",
       "<table border=\"1\" class=\"dataframe\">\n",
       "  <thead>\n",
       "    <tr style=\"text-align: right;\">\n",
       "      <th></th>\n",
       "      <th>Name</th>\n",
       "      <th>Surname</th>\n",
       "    </tr>\n",
       "  </thead>\n",
       "  <tbody>\n",
       "    <tr>\n",
       "      <th>0</th>\n",
       "      <td>ADITYA</td>\n",
       "      <td>JAIN</td>\n",
       "    </tr>\n",
       "  </tbody>\n",
       "</table>\n",
       "</div>"
      ],
      "text/plain": [
       "     Name Surname\n",
       "0  ADITYA    JAIN"
      ]
     },
     "execution_count": 82,
     "metadata": {},
     "output_type": "execute_result"
    }
   ],
   "source": [
    "mydict = {\"Name\" : [\"ADITYA\"],\n",
    "\"Surname\" : [\"JAIN\"]}\n",
    "\n",
    "newdf= pd.DataFrame(mydict)\n",
    "newdf"
   ]
  },
  {
   "cell_type": "markdown",
   "metadata": {},
   "source": []
  }
 ],
 "metadata": {
  "kernelspec": {
   "display_name": "NERA",
   "language": "python",
   "name": "python3"
  },
  "language_info": {
   "codemirror_mode": {
    "name": "ipython",
    "version": 3
   },
   "file_extension": ".py",
   "mimetype": "text/x-python",
   "name": "python",
   "nbconvert_exporter": "python",
   "pygments_lexer": "ipython3",
   "version": "3.7.9"
  }
 },
 "nbformat": 4,
 "nbformat_minor": 2
}
