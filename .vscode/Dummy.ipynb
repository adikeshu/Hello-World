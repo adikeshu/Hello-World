{
 "cells": [
  {
   "cell_type": "code",
   "execution_count": 7,
   "metadata": {},
   "outputs": [],
   "source": [
    "import os\n",
    "import numpy as np\n",
    "import pandas as pd\n",
    "import rapidminer\n",
    "\n",
    "rm = rapidminer.Studio(\"C:\\Program Files\\RapidMiner\\RapidMiner Studio\")"
   ]
  },
  {
   "cell_type": "code",
   "execution_count": 4,
   "metadata": {},
   "outputs": [
    {
     "name": "stderr",
     "output_type": "stream",
     "text": [
      "c:\\Users\\ajain46\\Anaconda3\\envs\\NERA\\lib\\site-packages\\openpyxl\\styles\\stylesheet.py:214: UserWarning: Workbook contains no default style, apply openpyxl's default\n",
      "  warn(\"Workbook contains no default style, apply openpyxl's default\")\n"
     ]
    }
   ],
   "source": [
    "df = pd.read_excel(r\"C:\\Users\\ajain46\\OneDrive\\JAGUAR LAND ROVER\\Network Excellence Reporting & Analytics - NERA Data Repository\\Reference Data\\Evo_Bodyshop Dashboard\\Data\\Raw User Data Example.xlsx\")\n"
   ]
  },
  {
   "cell_type": "code",
   "execution_count": 8,
   "metadata": {},
   "outputs": [
    {
     "name": "stdout",
     "output_type": "stream",
     "text": [
      "<class 'pandas.core.frame.DataFrame'>\n",
      "RangeIndex: 105870 entries, 0 to 105869\n",
      "Data columns (total 38 columns):\n",
      " #   Column                      Non-Null Count   Dtype         \n",
      "---  ------                      --------------   -----         \n",
      " 0   Brand                       105870 non-null  object        \n",
      " 1   Business Region             105870 non-null  object        \n",
      " 2   Market                      105870 non-null  object        \n",
      " 3   Evo Market                  105870 non-null  object        \n",
      " 4   Sub Market                  105870 non-null  object        \n",
      " 5   Country                     105870 non-null  object        \n",
      " 6   Franchise Type              105870 non-null  object        \n",
      " 7   Address ID                  105870 non-null  object        \n",
      " 8   CI Code                     105870 non-null  object        \n",
      " 9   Bodyshop Name               105870 non-null  object        \n",
      " 10  Classification              105330 non-null  object        \n",
      " 11  Job Role                    105870 non-null  object        \n",
      " 12  Certified Level             105870 non-null  float64       \n",
      " 13  Target Level                105870 non-null  object        \n",
      " 14  L3 Certified Date           27735 non-null   datetime64[ns]\n",
      " 15  L3 Expiry Date              31399 non-null   datetime64[ns]\n",
      " 16  L4 Certified Date           18939 non-null   datetime64[ns]\n",
      " 17  L4 Expiry Date              22347 non-null   datetime64[ns]\n",
      " 18  PIN                         105870 non-null  int64         \n",
      " 19  First Name                  105870 non-null  object        \n",
      " 20  Surname                     105870 non-null  object        \n",
      " 21  Job Role Start Date         105870 non-null  object        \n",
      " 22  Course Type                 105870 non-null  object        \n",
      " 23  Course Date                 53226 non-null   datetime64[ns]\n",
      " 24  Enrolment Status            105870 non-null  object        \n",
      " 25  Course Requirement          105870 non-null  object        \n",
      " 26  Core or Choice              105870 non-null  object        \n",
      " 27  Course Code                 105870 non-null  object        \n",
      " 28  Course Title                105870 non-null  object        \n",
      " 29  LJ Level                    105870 non-null  object        \n",
      " 30  LJ Course Order             0 non-null       float64       \n",
      " 31  Enrol Count                 105870 non-null  float64       \n",
      " 32  Total Completed LJ Courses  105176 non-null  float64       \n",
      " 33  Total LJ Courses            105176 non-null  float64       \n",
      " 34  L3 RAG                      31399 non-null   object        \n",
      " 35  L4 RAG                      22347 non-null   object        \n",
      " 36  Mandated Courses            105870 non-null  float64       \n",
      " 37  Mandated Completed          105870 non-null  float64       \n",
      "dtypes: datetime64[ns](5), float64(7), int64(1), object(25)\n",
      "memory usage: 30.7+ MB\n"
     ]
    }
   ],
   "source": [
    "df.info()"
   ]
  },
  {
   "cell_type": "code",
   "execution_count": 9,
   "metadata": {},
   "outputs": [
    {
     "name": "stderr",
     "output_type": "stream",
     "text": [
      "c:\\Users\\ajain46\\Anaconda3\\envs\\NERA\\lib\\site-packages\\openpyxl\\styles\\stylesheet.py:214: UserWarning: Workbook contains no default style, apply openpyxl's default\n",
      "  warn(\"Workbook contains no default style, apply openpyxl's default\")\n"
     ]
    }
   ],
   "source": [
    "df2 = pd.read_excel(r\"C:\\Users\\ajain46\\OneDrive\\JAGUAR LAND ROVER\\Network Excellence Reporting & Analytics - NERA Data Repository\\Reference Data\\Evo_Bodyshop Dashboard\\Data\\Raw User Data Example.xlsx\")\n"
   ]
  },
  {
   "cell_type": "code",
   "execution_count": 10,
   "metadata": {},
   "outputs": [
    {
     "name": "stdout",
     "output_type": "stream",
     "text": [
      "<class 'pandas.core.frame.DataFrame'>\n",
      "RangeIndex: 105870 entries, 0 to 105869\n",
      "Data columns (total 38 columns):\n",
      " #   Column                      Non-Null Count   Dtype         \n",
      "---  ------                      --------------   -----         \n",
      " 0   Brand                       105870 non-null  object        \n",
      " 1   Business Region             105870 non-null  object        \n",
      " 2   Market                      105870 non-null  object        \n",
      " 3   Evo Market                  105870 non-null  object        \n",
      " 4   Sub Market                  105870 non-null  object        \n",
      " 5   Country                     105870 non-null  object        \n",
      " 6   Franchise Type              105870 non-null  object        \n",
      " 7   Address ID                  105870 non-null  object        \n",
      " 8   CI Code                     105870 non-null  object        \n",
      " 9   Bodyshop Name               105870 non-null  object        \n",
      " 10  Classification              105330 non-null  object        \n",
      " 11  Job Role                    105870 non-null  object        \n",
      " 12  Certified Level             105870 non-null  float64       \n",
      " 13  Target Level                105870 non-null  object        \n",
      " 14  L3 Certified Date           28128 non-null   datetime64[ns]\n",
      " 15  L3 Expiry Date              28128 non-null   datetime64[ns]\n",
      " 16  L4 Certified Date           19020 non-null   datetime64[ns]\n",
      " 17  L4 Expiry Date              19020 non-null   datetime64[ns]\n",
      " 18  PIN                         105870 non-null  int64         \n",
      " 19  First Name                  105870 non-null  object        \n",
      " 20  Surname                     105870 non-null  object        \n",
      " 21  Job Role Start Date         105870 non-null  object        \n",
      " 22  Course Type                 105870 non-null  object        \n",
      " 23  Course Date                 53226 non-null   datetime64[ns]\n",
      " 24  Enrolment Status            105870 non-null  object        \n",
      " 25  Course Requirement          105870 non-null  object        \n",
      " 26  Core or Choice              105870 non-null  object        \n",
      " 27  Course Code                 105870 non-null  object        \n",
      " 28  Course Title                105870 non-null  object        \n",
      " 29  LJ Level                    105870 non-null  object        \n",
      " 30  LJ Course Order             0 non-null       float64       \n",
      " 31  Enrol Count                 105870 non-null  float64       \n",
      " 32  Total Completed LJ Courses  105176 non-null  float64       \n",
      " 33  Total LJ Courses            105176 non-null  float64       \n",
      " 34  L3 RAG                      28128 non-null   object        \n",
      " 35  L4 RAG                      19020 non-null   object        \n",
      " 36  Mandated Courses            105870 non-null  float64       \n",
      " 37  Mandated Completed          105870 non-null  float64       \n",
      "dtypes: datetime64[ns](5), float64(7), int64(1), object(25)\n",
      "memory usage: 30.7+ MB\n"
     ]
    }
   ],
   "source": [
    "df2.info()"
   ]
  },
  {
   "cell_type": "code",
   "execution_count": null,
   "metadata": {},
   "outputs": [],
   "source": []
  }
 ],
 "metadata": {
  "kernelspec": {
   "display_name": "NERA",
   "language": "python",
   "name": "python3"
  },
  "language_info": {
   "codemirror_mode": {
    "name": "ipython",
    "version": 3
   },
   "file_extension": ".py",
   "mimetype": "text/x-python",
   "name": "python",
   "nbconvert_exporter": "python",
   "pygments_lexer": "ipython3",
   "version": "3.7.9"
  }
 },
 "nbformat": 4,
 "nbformat_minor": 2
}
